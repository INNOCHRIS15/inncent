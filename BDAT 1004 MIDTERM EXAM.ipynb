{
 "cells": [
  {
   "cell_type": "markdown",
   "id": "2c3c08cc-a217-4e45-bca1-005d6c78efcd",
   "metadata": {},
   "source": [
    "# Q21"
   ]
  },
  {
   "cell_type": "code",
   "execution_count": 2,
   "id": "9cc5d928-c8fc-453f-a78f-2a9e394f9d70",
   "metadata": {},
   "outputs": [
    {
     "data": {
      "text/plain": [
       "(5.0, 1.3333333333333333)"
      ]
     },
     "execution_count": 2,
     "metadata": {},
     "output_type": "execute_result"
    }
   ],
   "source": [
    "import math\n",
    "\n",
    "class Point:\n",
    "    def __init__(self, x=0, y=0):\n",
    "        self.x = x\n",
    "        self.y = y\n",
    "\n",
    "class Segment:\n",
    "    def __init__(self, p1: Point, p2: Point):\n",
    "        self.p1 = p1\n",
    "        self.p2 = p2\n",
    "    \n",
    "    def length(self):\n",
    "        \"\"\"Returns the length of the segment.\"\"\"\n",
    "        return math.sqrt((self.p2.x - self.p1.x) ** 2 + (self.p2.y - self.p1.y) ** 2)\n",
    "    \n",
    "    def slope(self):\n",
    "        \"\"\"Returns the slope of the segment or None if the slope is unbounded.\"\"\"\n",
    "        if self.p2.x - self.p1.x == 0:  # Check for vertical line\n",
    "            return None\n",
    "        return (self.p2.y - self.p1.y) / (self.p2.x - self.p1.x)\n",
    "\n",
    "\n",
    "p1 = Point(3, 4)\n",
    "p2 = Point()  \n",
    "s = Segment(p1, p2)\n",
    "\n",
    "\n",
    "length_result = s.length()\n",
    "slope_result = s.slope()\n",
    "\n",
    "length_result, slope_result\n"
   ]
  },
  {
   "cell_type": "code",
   "execution_count": null,
   "id": "e38f37fa-1beb-4264-87c0-a9bd2f5816a4",
   "metadata": {},
   "outputs": [],
   "source": []
  }
 ],
 "metadata": {
  "kernelspec": {
   "display_name": "Python 3 (ipykernel)",
   "language": "python",
   "name": "python3"
  },
  "language_info": {
   "codemirror_mode": {
    "name": "ipython",
    "version": 3
   },
   "file_extension": ".py",
   "mimetype": "text/x-python",
   "name": "python",
   "nbconvert_exporter": "python",
   "pygments_lexer": "ipython3",
   "version": "3.12.4"
  }
 },
 "nbformat": 4,
 "nbformat_minor": 5
}
